{
 "cells": [
  {
   "cell_type": "markdown",
   "metadata": {
    "deletable": true,
    "editable": true
   },
   "source": [
    "# Match or Not Match With Speed Dating Using Binary Classification"
   ]
  },
  {
   "cell_type": "markdown",
   "metadata": {
    "deletable": true,
    "editable": true
   },
   "source": [
    "<b>Step 1: </b> Import Libraries"
   ]
  },
  {
   "cell_type": "code",
   "execution_count": 1,
   "metadata": {
    "collapsed": true,
    "deletable": true,
    "editable": true
   },
   "outputs": [],
   "source": [
    "# Allows charts to appear in the notebook\n",
    "%matplotlib inline\n",
    "\n",
    "# Libraries for data analysis\n",
    "import pandas as pd\n",
    "import numpy as np\n",
    "\n",
    "\n",
    "# To plot pretty figures\n",
    "%matplotlib inline\n",
    "import matplotlib.pyplot as plt\n",
    "import seaborn as sns; sns.set(font_scale=1.2)\n",
    "\n",
    "# Machine Learning Libraries\n",
    "from sklearn import tree\n",
    "from sklearn.model_selection import train_test_split\n",
    "from sklearn.metrics import accuracy_score\n",
    "from sklearn.metrics import classification_report\n",
    "\n",
    "\n"
   ]
  },
  {
   "cell_type": "markdown",
   "metadata": {
    "deletable": true,
    "editable": true
   },
   "source": [
    "<b>Step2:</b> Import Data<br>\n",
    "<b>Step3.1:</b> Dividing data set into 2 sets: one set perople belong to the same race and the second set is the people with the shared interest"
   ]
  },
  {
   "cell_type": "code",
   "execution_count": 2,
   "metadata": {
    "collapsed": false,
    "deletable": true,
    "editable": true
   },
   "outputs": [
    {
     "data": {
      "text/html": [
       "<div>\n",
       "<table border=\"1\" class=\"dataframe\">\n",
       "  <thead>\n",
       "    <tr style=\"text-align: right;\">\n",
       "      <th></th>\n",
       "      <th>iid</th>\n",
       "      <th>id</th>\n",
       "      <th>gender</th>\n",
       "      <th>idg</th>\n",
       "      <th>condtn</th>\n",
       "      <th>wave</th>\n",
       "      <th>round</th>\n",
       "      <th>position</th>\n",
       "      <th>positin1</th>\n",
       "      <th>order</th>\n",
       "      <th>...</th>\n",
       "      <th>attr3_3</th>\n",
       "      <th>sinc3_3</th>\n",
       "      <th>intel3_3</th>\n",
       "      <th>fun3_3</th>\n",
       "      <th>amb3_3</th>\n",
       "      <th>attr5_3</th>\n",
       "      <th>sinc5_3</th>\n",
       "      <th>intel5_3</th>\n",
       "      <th>fun5_3</th>\n",
       "      <th>amb5_3</th>\n",
       "    </tr>\n",
       "  </thead>\n",
       "  <tbody>\n",
       "    <tr>\n",
       "      <th>0</th>\n",
       "      <td>1</td>\n",
       "      <td>1.0</td>\n",
       "      <td>0</td>\n",
       "      <td>1</td>\n",
       "      <td>1</td>\n",
       "      <td>1</td>\n",
       "      <td>10</td>\n",
       "      <td>7</td>\n",
       "      <td>NaN</td>\n",
       "      <td>4</td>\n",
       "      <td>...</td>\n",
       "      <td>5.0</td>\n",
       "      <td>7.0</td>\n",
       "      <td>7.0</td>\n",
       "      <td>7.0</td>\n",
       "      <td>7.0</td>\n",
       "      <td>NaN</td>\n",
       "      <td>NaN</td>\n",
       "      <td>NaN</td>\n",
       "      <td>NaN</td>\n",
       "      <td>NaN</td>\n",
       "    </tr>\n",
       "    <tr>\n",
       "      <th>1</th>\n",
       "      <td>1</td>\n",
       "      <td>1.0</td>\n",
       "      <td>0</td>\n",
       "      <td>1</td>\n",
       "      <td>1</td>\n",
       "      <td>1</td>\n",
       "      <td>10</td>\n",
       "      <td>7</td>\n",
       "      <td>NaN</td>\n",
       "      <td>3</td>\n",
       "      <td>...</td>\n",
       "      <td>5.0</td>\n",
       "      <td>7.0</td>\n",
       "      <td>7.0</td>\n",
       "      <td>7.0</td>\n",
       "      <td>7.0</td>\n",
       "      <td>NaN</td>\n",
       "      <td>NaN</td>\n",
       "      <td>NaN</td>\n",
       "      <td>NaN</td>\n",
       "      <td>NaN</td>\n",
       "    </tr>\n",
       "    <tr>\n",
       "      <th>2</th>\n",
       "      <td>1</td>\n",
       "      <td>1.0</td>\n",
       "      <td>0</td>\n",
       "      <td>1</td>\n",
       "      <td>1</td>\n",
       "      <td>1</td>\n",
       "      <td>10</td>\n",
       "      <td>7</td>\n",
       "      <td>NaN</td>\n",
       "      <td>10</td>\n",
       "      <td>...</td>\n",
       "      <td>5.0</td>\n",
       "      <td>7.0</td>\n",
       "      <td>7.0</td>\n",
       "      <td>7.0</td>\n",
       "      <td>7.0</td>\n",
       "      <td>NaN</td>\n",
       "      <td>NaN</td>\n",
       "      <td>NaN</td>\n",
       "      <td>NaN</td>\n",
       "      <td>NaN</td>\n",
       "    </tr>\n",
       "    <tr>\n",
       "      <th>3</th>\n",
       "      <td>1</td>\n",
       "      <td>1.0</td>\n",
       "      <td>0</td>\n",
       "      <td>1</td>\n",
       "      <td>1</td>\n",
       "      <td>1</td>\n",
       "      <td>10</td>\n",
       "      <td>7</td>\n",
       "      <td>NaN</td>\n",
       "      <td>5</td>\n",
       "      <td>...</td>\n",
       "      <td>5.0</td>\n",
       "      <td>7.0</td>\n",
       "      <td>7.0</td>\n",
       "      <td>7.0</td>\n",
       "      <td>7.0</td>\n",
       "      <td>NaN</td>\n",
       "      <td>NaN</td>\n",
       "      <td>NaN</td>\n",
       "      <td>NaN</td>\n",
       "      <td>NaN</td>\n",
       "    </tr>\n",
       "    <tr>\n",
       "      <th>4</th>\n",
       "      <td>1</td>\n",
       "      <td>1.0</td>\n",
       "      <td>0</td>\n",
       "      <td>1</td>\n",
       "      <td>1</td>\n",
       "      <td>1</td>\n",
       "      <td>10</td>\n",
       "      <td>7</td>\n",
       "      <td>NaN</td>\n",
       "      <td>7</td>\n",
       "      <td>...</td>\n",
       "      <td>5.0</td>\n",
       "      <td>7.0</td>\n",
       "      <td>7.0</td>\n",
       "      <td>7.0</td>\n",
       "      <td>7.0</td>\n",
       "      <td>NaN</td>\n",
       "      <td>NaN</td>\n",
       "      <td>NaN</td>\n",
       "      <td>NaN</td>\n",
       "      <td>NaN</td>\n",
       "    </tr>\n",
       "  </tbody>\n",
       "</table>\n",
       "<p>5 rows × 195 columns</p>\n",
       "</div>"
      ],
      "text/plain": [
       "   iid   id  gender  idg  condtn  wave  round  position  positin1  order  \\\n",
       "0    1  1.0       0    1       1     1     10         7       NaN      4   \n",
       "1    1  1.0       0    1       1     1     10         7       NaN      3   \n",
       "2    1  1.0       0    1       1     1     10         7       NaN     10   \n",
       "3    1  1.0       0    1       1     1     10         7       NaN      5   \n",
       "4    1  1.0       0    1       1     1     10         7       NaN      7   \n",
       "\n",
       "    ...    attr3_3  sinc3_3  intel3_3  fun3_3  amb3_3  attr5_3  sinc5_3  \\\n",
       "0   ...        5.0      7.0       7.0     7.0     7.0      NaN      NaN   \n",
       "1   ...        5.0      7.0       7.0     7.0     7.0      NaN      NaN   \n",
       "2   ...        5.0      7.0       7.0     7.0     7.0      NaN      NaN   \n",
       "3   ...        5.0      7.0       7.0     7.0     7.0      NaN      NaN   \n",
       "4   ...        5.0      7.0       7.0     7.0     7.0      NaN      NaN   \n",
       "\n",
       "   intel5_3  fun5_3  amb5_3  \n",
       "0       NaN     NaN     NaN  \n",
       "1       NaN     NaN     NaN  \n",
       "2       NaN     NaN     NaN  \n",
       "3       NaN     NaN     NaN  \n",
       "4       NaN     NaN     NaN  \n",
       "\n",
       "[5 rows x 195 columns]"
      ]
     },
     "execution_count": 2,
     "metadata": {},
     "output_type": "execute_result"
    }
   ],
   "source": [
    "# Read in speed Dating Data\n",
    "dating_data = pd.read_csv('Speed Dating Data.csv',encoding = \"ISO-8859-1\")\n",
    "# Printing the first five rows of the Data Frame\n",
    "dating_data.head()"
   ]
  },
  {
   "cell_type": "code",
   "execution_count": 3,
   "metadata": {
    "collapsed": false,
    "deletable": true,
    "editable": true
   },
   "outputs": [
    {
     "name": "stdout",
     "output_type": "stream",
     "text": [
      "<class 'pandas.core.frame.DataFrame'>\n",
      "RangeIndex: 8378 entries, 0 to 8377\n",
      "Columns: 195 entries, iid to amb5_3\n",
      "dtypes: float64(174), int64(13), object(8)\n",
      "memory usage: 12.5+ MB\n"
     ]
    }
   ],
   "source": [
    "#Printing Quick Description of Data\n",
    "dating_data.info()"
   ]
  },
  {
   "cell_type": "code",
   "execution_count": null,
   "metadata": {
    "collapsed": false,
    "deletable": true,
    "editable": true
   },
   "outputs": [],
   "source": [
    "# Calling hist function on numerical attributes\n",
    "dating_data.hist(bins=50, figsize=(20,15))\n",
    "plt.show()"
   ]
  },
  {
   "cell_type": "markdown",
   "metadata": {
    "deletable": true,
    "editable": true
   },
   "source": [
    "<b>Step3: </b> Prepare Data"
   ]
  },
  {
   "cell_type": "code",
   "execution_count": null,
   "metadata": {
    "collapsed": true,
    "deletable": true,
    "editable": true
   },
   "outputs": [],
   "source": [
    "# Selecting the the columns that need\n",
    "dating_dataOne = dating_data[['iid','gender','samerace','age_o','race_o','dec_o','race','imprace','career_c']]"
   ]
  },
  {
   "cell_type": "code",
   "execution_count": null,
   "metadata": {
    "collapsed": false,
    "deletable": true,
    "editable": true
   },
   "outputs": [],
   "source": [
    "dating_dataOne.head()\n",
    "print\"shape of the data frame: \" ,dating_dataOne.shape"
   ]
  },
  {
   "cell_type": "code",
   "execution_count": null,
   "metadata": {
    "collapsed": false,
    "deletable": true,
    "editable": true
   },
   "outputs": [],
   "source": [
    "# Looking into the data type of 9 columns that I picked\n",
    "dating_dataOne.info()"
   ]
  },
  {
   "cell_type": "code",
   "execution_count": 23,
   "metadata": {
    "collapsed": true,
    "deletable": true,
    "editable": true
   },
   "outputs": [],
   "source": [
    "# Creating the dataset with the same race people and Replacing NaN with zero \n",
    "# Data Cleaning \n",
    "dating_dataSetOne=dating_dataOne[dating_dataOne['samerace'] ==1]\n",
    "dating_dataSetOne = dating_dataSetOne.replace(np.nan,0)\n"
   ]
  },
  {
   "cell_type": "code",
   "execution_count": 30,
   "metadata": {
    "collapsed": false,
    "deletable": true,
    "editable": true
   },
   "outputs": [
    {
     "name": "stdout",
     "output_type": "stream",
     "text": [
      "<class 'pandas.core.frame.DataFrame'>\n",
      "Int64Index: 3316 entries, 2 to 8372\n",
      "Data columns (total 9 columns):\n",
      "iid         3316 non-null int64\n",
      "gender      3316 non-null int64\n",
      "samerace    3316 non-null int64\n",
      "age_o       3316 non-null float64\n",
      "race_o      3316 non-null float64\n",
      "dec_o       3316 non-null int64\n",
      "race        3316 non-null float64\n",
      "imprace     3316 non-null float64\n",
      "career_c    3316 non-null float64\n",
      "dtypes: float64(5), int64(4)\n",
      "memory usage: 259.1 KB\n"
     ]
    }
   ],
   "source": [
    "dating_dataSetOne.info()"
   ]
  },
  {
   "cell_type": "code",
   "execution_count": 25,
   "metadata": {
    "collapsed": false,
    "deletable": true,
    "editable": true
   },
   "outputs": [
    {
     "data": {
      "text/plain": [
       "iid         552.0\n",
       "gender        1.0\n",
       "samerace      1.0\n",
       "age_o        55.0\n",
       "race_o        6.0\n",
       "dec_o         1.0\n",
       "race          6.0\n",
       "imprace      10.0\n",
       "career_c     17.0\n",
       "dtype: float64"
      ]
     },
     "execution_count": 25,
     "metadata": {},
     "output_type": "execute_result"
    }
   ],
   "source": [
    "#viewing thedating_dataSetOne.min() maximum values in each nine column\n",
    "dating_dataSetOne.max()"
   ]
  },
  {
   "cell_type": "code",
   "execution_count": 26,
   "metadata": {
    "collapsed": false,
    "deletable": true,
    "editable": true
   },
   "outputs": [
    {
     "data": {
      "text/plain": [
       "iid         1.0\n",
       "gender      0.0\n",
       "samerace    1.0\n",
       "age_o       0.0\n",
       "race_o      1.0\n",
       "dec_o       0.0\n",
       "race        1.0\n",
       "imprace     0.0\n",
       "career_c    0.0\n",
       "dtype: float64"
      ]
     },
     "execution_count": 26,
     "metadata": {},
     "output_type": "execute_result"
    }
   ],
   "source": [
    "# viewing minimum values in each column\n",
    "dating_dataSetOne.min()"
   ]
  },
  {
   "cell_type": "code",
   "execution_count": 27,
   "metadata": {
    "collapsed": true,
    "deletable": true,
    "editable": true
   },
   "outputs": [],
   "source": [
    " # Replacing the age with value zero to the mean of the age\n",
    "mean_age=dating_dataSetOne['age_o'].mean()\n",
    "dating_dataSetOne['age_o']=dating_dataSetOne.age_o.mask(dating_dataSetOne.age_o == 0,mean_age)"
   ]
  },
  {
   "cell_type": "code",
   "execution_count": 28,
   "metadata": {
    "collapsed": false,
    "deletable": true,
    "editable": true
   },
   "outputs": [
    {
     "data": {
      "text/plain": [
       "iid          1.0\n",
       "gender       0.0\n",
       "samerace     1.0\n",
       "age_o       20.0\n",
       "race_o       1.0\n",
       "dec_o        0.0\n",
       "race         1.0\n",
       "imprace      0.0\n",
       "career_c     0.0\n",
       "dtype: float64"
      ]
     },
     "execution_count": 28,
     "metadata": {},
     "output_type": "execute_result"
    }
   ],
   "source": [
    "# Now printing the min value for each column again.\n",
    "dating_dataSetOne.min()"
   ]
  },
  {
   "cell_type": "code",
   "execution_count": 29,
   "metadata": {
    "collapsed": true,
    "deletable": true,
    "editable": true
   },
   "outputs": [],
   "source": [
    "# creating age bins\n",
    "bins = [18, 21, 55]\n",
    "# Create names for the three groups\n",
    "group_names = ['Young', 'Old']\n",
    "# Copying the data frame into another one for visualization purpose\n",
    "dating_data_visual = dating_dataSetOne.copy(deep=True)\n",
    "# Cut age and add ageBinned column\n",
    "categories = pd.cut(dating_data_visual['age_o'], bins, labels=group_names)\n",
    "\n",
    "dating_data_visual['categories'] = pd.cut(dating_dataSetOne['age_o'], bins, labels=group_names)\n",
    "dating_data_visual['scoresBinned'] = pd.cut(dating_dataSetOne['age_o'], bins)\n",
    "\n"
   ]
  },
  {
   "cell_type": "code",
   "execution_count": 31,
   "metadata": {
    "collapsed": false,
    "deletable": true,
    "editable": true
   },
   "outputs": [
    {
     "name": "stdout",
     "output_type": "stream",
     "text": [
      "<class 'pandas.core.frame.DataFrame'>\n",
      "Int64Index: 3316 entries, 2 to 8372\n",
      "Data columns (total 11 columns):\n",
      "iid             3316 non-null int64\n",
      "gender          3316 non-null int64\n",
      "samerace        3316 non-null int64\n",
      "age_o           3316 non-null float64\n",
      "race_o          3316 non-null float64\n",
      "dec_o           3316 non-null int64\n",
      "race            3316 non-null float64\n",
      "imprace         3316 non-null float64\n",
      "career_c        3316 non-null float64\n",
      "categories      3316 non-null category\n",
      "scoresBinned    3316 non-null category\n",
      "dtypes: category(2), float64(5), int64(4)\n",
      "memory usage: 265.6 KB\n"
     ]
    }
   ],
   "source": [
    "#viewing the data frame for the visualization purpose\n",
    "dating_data_visual.info()"
   ]
  },
  {
   "cell_type": "code",
   "execution_count": 32,
   "metadata": {
    "collapsed": false,
    "deletable": true,
    "editable": true
   },
   "outputs": [
    {
     "data": {
      "text/html": [
       "<div>\n",
       "<table border=\"1\" class=\"dataframe\">\n",
       "  <thead>\n",
       "    <tr style=\"text-align: right;\">\n",
       "      <th></th>\n",
       "      <th>iid</th>\n",
       "      <th>gender</th>\n",
       "      <th>samerace</th>\n",
       "      <th>age_o</th>\n",
       "      <th>race_o</th>\n",
       "      <th>dec_o</th>\n",
       "      <th>race</th>\n",
       "      <th>imprace</th>\n",
       "      <th>career_c</th>\n",
       "      <th>categories</th>\n",
       "      <th>scoresBinned</th>\n",
       "    </tr>\n",
       "  </thead>\n",
       "  <tbody>\n",
       "    <tr>\n",
       "      <th>2</th>\n",
       "      <td>1</td>\n",
       "      <td>0</td>\n",
       "      <td>1</td>\n",
       "      <td>22.0</td>\n",
       "      <td>4.0</td>\n",
       "      <td>1</td>\n",
       "      <td>4.0</td>\n",
       "      <td>2.0</td>\n",
       "      <td>0.0</td>\n",
       "      <td>Old</td>\n",
       "      <td>(21, 55]</td>\n",
       "    </tr>\n",
       "    <tr>\n",
       "      <th>10</th>\n",
       "      <td>2</td>\n",
       "      <td>0</td>\n",
       "      <td>1</td>\n",
       "      <td>27.0</td>\n",
       "      <td>2.0</td>\n",
       "      <td>0</td>\n",
       "      <td>2.0</td>\n",
       "      <td>2.0</td>\n",
       "      <td>0.0</td>\n",
       "      <td>Old</td>\n",
       "      <td>(21, 55]</td>\n",
       "    </tr>\n",
       "    <tr>\n",
       "      <th>11</th>\n",
       "      <td>2</td>\n",
       "      <td>0</td>\n",
       "      <td>1</td>\n",
       "      <td>22.0</td>\n",
       "      <td>2.0</td>\n",
       "      <td>0</td>\n",
       "      <td>2.0</td>\n",
       "      <td>2.0</td>\n",
       "      <td>0.0</td>\n",
       "      <td>Old</td>\n",
       "      <td>(21, 55]</td>\n",
       "    </tr>\n",
       "    <tr>\n",
       "      <th>13</th>\n",
       "      <td>2</td>\n",
       "      <td>0</td>\n",
       "      <td>1</td>\n",
       "      <td>23.0</td>\n",
       "      <td>2.0</td>\n",
       "      <td>1</td>\n",
       "      <td>2.0</td>\n",
       "      <td>2.0</td>\n",
       "      <td>0.0</td>\n",
       "      <td>Old</td>\n",
       "      <td>(21, 55]</td>\n",
       "    </tr>\n",
       "    <tr>\n",
       "      <th>15</th>\n",
       "      <td>2</td>\n",
       "      <td>0</td>\n",
       "      <td>1</td>\n",
       "      <td>25.0</td>\n",
       "      <td>2.0</td>\n",
       "      <td>1</td>\n",
       "      <td>2.0</td>\n",
       "      <td>2.0</td>\n",
       "      <td>0.0</td>\n",
       "      <td>Old</td>\n",
       "      <td>(21, 55]</td>\n",
       "    </tr>\n",
       "  </tbody>\n",
       "</table>\n",
       "</div>"
      ],
      "text/plain": [
       "    iid  gender  samerace  age_o  race_o  dec_o  race  imprace  career_c  \\\n",
       "2     1       0         1   22.0     4.0      1   4.0      2.0       0.0   \n",
       "10    2       0         1   27.0     2.0      0   2.0      2.0       0.0   \n",
       "11    2       0         1   22.0     2.0      0   2.0      2.0       0.0   \n",
       "13    2       0         1   23.0     2.0      1   2.0      2.0       0.0   \n",
       "15    2       0         1   25.0     2.0      1   2.0      2.0       0.0   \n",
       "\n",
       "   categories scoresBinned  \n",
       "2         Old     (21, 55]  \n",
       "10        Old     (21, 55]  \n",
       "11        Old     (21, 55]  \n",
       "13        Old     (21, 55]  \n",
       "15        Old     (21, 55]  "
      ]
     },
     "execution_count": 32,
     "metadata": {},
     "output_type": "execute_result"
    }
   ],
   "source": [
    "# Viewing the first five records\n",
    "dating_data_visual.head()"
   ]
  },
  {
   "cell_type": "code",
   "execution_count": 14,
   "metadata": {
    "collapsed": false,
    "deletable": true,
    "editable": true
   },
   "outputs": [
    {
     "data": {
      "text/plain": [
       "Old      3174\n",
       "Young     142\n",
       "Name: categories, dtype: int64"
      ]
     },
     "execution_count": 14,
     "metadata": {},
     "output_type": "execute_result"
    }
   ],
   "source": [
    "# Count the number of observations which each value\n",
    "x_values=pd.value_counts(dating_data_visual['categories'])\n",
    "x_values\n"
   ]
  },
  {
   "cell_type": "code",
   "execution_count": 15,
   "metadata": {
    "collapsed": false,
    "deletable": true,
    "editable": true
   },
   "outputs": [
    {
     "data": {
      "text/plain": [
       "False    1714\n",
       "True     1602\n",
       "dtype: int64"
      ]
     },
     "execution_count": 15,
     "metadata": {},
     "output_type": "execute_result"
    }
   ],
   "source": [
    "f_adult_count=pd.value_counts((dating_data_visual['categories']=='Old') & (dating_data_visual['gender']==0))\n",
    "f_adult_count"
   ]
  },
  {
   "cell_type": "code",
   "execution_count": 16,
   "metadata": {
    "collapsed": false,
    "deletable": true,
    "editable": true
   },
   "outputs": [
    {
     "data": {
      "text/plain": [
       "False    1744\n",
       "True     1572\n",
       "dtype: int64"
      ]
     },
     "execution_count": 16,
     "metadata": {},
     "output_type": "execute_result"
    }
   ],
   "source": [
    "m_adult_count=pd.value_counts((dating_data_visual['categories']=='Old') & (dating_data_visual['gender']==1))\n",
    "m_adult_count\n",
    "\n"
   ]
  },
  {
   "cell_type": "code",
   "execution_count": 17,
   "metadata": {
    "collapsed": false,
    "deletable": true,
    "editable": true
   },
   "outputs": [
    {
     "data": {
      "text/plain": [
       "False    3260\n",
       "True       56\n",
       "dtype: int64"
      ]
     },
     "execution_count": 17,
     "metadata": {},
     "output_type": "execute_result"
    }
   ],
   "source": [
    "f_young_count=pd.value_counts((dating_data_visual['categories']=='Young') & (dating_data_visual['gender']==0))\n",
    "f_young_count"
   ]
  },
  {
   "cell_type": "code",
   "execution_count": 18,
   "metadata": {
    "collapsed": false,
    "deletable": true,
    "editable": true
   },
   "outputs": [
    {
     "data": {
      "text/plain": [
       "False    3230\n",
       "True       86\n",
       "dtype: int64"
      ]
     },
     "execution_count": 18,
     "metadata": {},
     "output_type": "execute_result"
    }
   ],
   "source": [
    "m_young_count=pd.value_counts((dating_data_visual['categories']=='Young') & (dating_data_visual['gender']==1))\n",
    "m_young_count"
   ]
  },
  {
   "cell_type": "code",
   "execution_count": 80,
   "metadata": {
    "collapsed": false,
    "deletable": true,
    "editable": true
   },
   "outputs": [
    {
     "name": "stdout",
     "output_type": "stream",
     "text": [
      "4.58928571429\n"
     ]
    }
   ],
   "source": [
    "f_young_df=dating_data_visual[(dating_data_visual['categories'] =='Young') & (dating_data_visual['gender']==0)]\n",
    "\n",
    "\n",
    "f_young_mean=f_young_df.imprace.mean()\n",
    "print f_young_mean"
   ]
  },
  {
   "cell_type": "code",
   "execution_count": 24,
   "metadata": {
    "collapsed": true,
    "deletable": true,
    "editable": true
   },
   "outputs": [],
   "source": [
    "m_young_df=dating_data_visual[(dating_data_visual['categories'] =='Young') & (dating_data_visual['gender']==1)]\n",
    "m_young_impra_mean=m_young_df.imprace.mean()"
   ]
  },
  {
   "cell_type": "code",
   "execution_count": 25,
   "metadata": {
    "collapsed": true,
    "deletable": true,
    "editable": true
   },
   "outputs": [],
   "source": [
    "f_adult_df=dating_data_visual[(dating_data_visual['categories'] =='Old') & (dating_data_visual['gender']==0)]\n",
    "f_adu_impra_mean=f_adult_df.imprace.mean()"
   ]
  },
  {
   "cell_type": "code",
   "execution_count": 26,
   "metadata": {
    "collapsed": true,
    "deletable": true,
    "editable": true
   },
   "outputs": [],
   "source": [
    "m_adult_df=dating_data_visual[(dating_data_visual['categories'] =='Old') & (dating_data_visual['gender']==1)]\n",
    "m_adu_impra_mean=m_adult_df.imprace.mean()"
   ]
  },
  {
   "cell_type": "code",
   "execution_count": 79,
   "metadata": {
    "collapsed": false,
    "deletable": true,
    "editable": true
   },
   "outputs": [
    {
     "name": "stdout",
     "output_type": "stream",
     "text": [
      "False    1714\n",
      "True     1602\n",
      "dtype: int64\n"
     ]
    }
   ],
   "source": [
    "y = f_adult_count[0]\n",
    "x = f_adult_count[1]\n",
    "print f_adult_count"
   ]
  },
  {
   "cell_type": "code",
   "execution_count": 73,
   "metadata": {
    "collapsed": false,
    "deletable": true,
    "editable": true
   },
   "outputs": [
    {
     "name": "stdout",
     "output_type": "stream",
     "text": [
      "(1602, 1714)\n"
     ]
    }
   ],
   "source": [
    "print(x, y)"
   ]
  },
  {
   "cell_type": "code",
   "execution_count": 82,
   "metadata": {
    "collapsed": false,
    "deletable": true,
    "editable": true
   },
   "outputs": [
    {
     "data": {
      "image/png": "[encoded data removed]",
      "text/plain": [
       "<matplotlib.figure.Figure at 0xf0dd550>"
      ]
     },
     "metadata": {},
     "output_type": "display_data"
    }
   ],
   "source": [
    "plt.plot(f_adult_count[1], f_adu_impra_mean, 'r--',m_adult_count[1], m_adu_impra_mean, 'bs', f_young_count[1], f_young_mean, 'g^',m_young_count[1],m_young_impra_mean,'kD')\n",
    "plt.show()\n"
   ]
  },
  {
   "cell_type": "code",
   "execution_count": 29,
   "metadata": {
    "collapsed": false,
    "deletable": true,
    "editable": true
   },
   "outputs": [
    {
     "data": {
      "text/plain": [
       "[16, 991, 366, 355, 223, 291, 201, 224, 323, 194, 132]"
      ]
     },
     "execution_count": 29,
     "metadata": {},
     "output_type": "execute_result"
    }
   ],
   "source": [
    "# why it needed\n",
    "list(dating_dataSetOne.groupby('imprace').count().reset_index()[['imprace','iid']]['iid'])"
   ]
  },
  {
   "cell_type": "code",
   "execution_count": 30,
   "metadata": {
    "collapsed": false,
    "deletable": true,
    "editable": true
   },
   "outputs": [
    {
     "data": {
      "text/plain": [
       "Index([u'iid', u'gender', u'samerace', u'age_o', u'race_o', u'dec_o', u'race',\n",
       "       u'imprace', u'career_c'],\n",
       "      dtype='object')"
      ]
     },
     "execution_count": 30,
     "metadata": {},
     "output_type": "execute_result"
    }
   ],
   "source": [
    "dating_dataSetOne.columns"
   ]
  },
  {
   "cell_type": "code",
   "execution_count": 33,
   "metadata": {
    "collapsed": true,
    "deletable": true,
    "editable": true
   },
   "outputs": [],
   "source": [
    "# Making all the fields into object except iid\n",
    "for i in ['gender','imprace','samerace','age_o','race_o','dec_o','career_c','race']:\n",
    "    dating_dataSetOne[i] = dating_dataSetOne[i].astype(str)"
   ]
  },
  {
   "cell_type": "code",
   "execution_count": 34,
   "metadata": {
    "collapsed": false,
    "deletable": true,
    "editable": true
   },
   "outputs": [
    {
     "name": "stdout",
     "output_type": "stream",
     "text": [
      "<class 'pandas.core.frame.DataFrame'>\n",
      "Int64Index: 3316 entries, 2 to 8372\n",
      "Data columns (total 9 columns):\n",
      "iid         3316 non-null int64\n",
      "gender      3316 non-null object\n",
      "samerace    3316 non-null object\n",
      "age_o       3316 non-null object\n",
      "race_o      3316 non-null object\n",
      "dec_o       3316 non-null object\n",
      "race        3316 non-null object\n",
      "imprace     3316 non-null object\n",
      "career_c    3316 non-null object\n",
      "dtypes: int64(1), object(8)\n",
      "memory usage: 259.1+ KB\n"
     ]
    }
   ],
   "source": [
    "dating_dataSetOne.info()"
   ]
  },
  {
   "cell_type": "code",
   "execution_count": 35,
   "metadata": {
    "collapsed": true,
    "deletable": true,
    "editable": true
   },
   "outputs": [],
   "source": [
    "dating_dataSetOne=pd.get_dummies(dating_dataSetOne, columns = ['gender', 'age_o', 'race_o', 'race', ])\n"
   ]
  },
  {
   "cell_type": "code",
   "execution_count": 37,
   "metadata": {
    "collapsed": true,
    "deletable": true,
    "editable": true
   },
   "outputs": [],
   "source": [
    "train, test = train_test_split(dating_dataSetOne, test_size=0.2)"
   ]
  },
  {
   "cell_type": "code",
   "execution_count": 38,
   "metadata": {
    "collapsed": true,
    "deletable": true,
    "editable": true
   },
   "outputs": [],
   "source": [
    "ids = train['iid']\n",
    "train_y = train['dec_o']\n",
    "train_x = train.drop(['iid', 'dec_o'], 1)\n",
    "test_ids=test['iid']\n",
    "test_y=test['dec_o']\n",
    "test_x=test.drop(['iid','dec_o'],1)"
   ]
  },
  {
   "cell_type": "code",
   "execution_count": 39,
   "metadata": {
    "collapsed": true,
    "deletable": true,
    "editable": true
   },
   "outputs": [],
   "source": [
    "clf = tree.DecisionTreeClassifier()"
   ]
  },
  {
   "cell_type": "code",
   "execution_count": 40,
   "metadata": {
    "collapsed": false,
    "deletable": true,
    "editable": true
   },
   "outputs": [
    {
     "data": {
      "text/plain": [
       "DecisionTreeClassifier(class_weight=None, criterion='gini', max_depth=None,\n",
       "            max_features=None, max_leaf_nodes=None,\n",
       "            min_impurity_split=1e-07, min_samples_leaf=1,\n",
       "            min_samples_split=2, min_weight_fraction_leaf=0.0,\n",
       "            presort=False, random_state=None, splitter='best')"
      ]
     },
     "execution_count": 40,
     "metadata": {},
     "output_type": "execute_result"
    }
   ],
   "source": [
    "clf.fit(train_x,train_y)"
   ]
  },
  {
   "cell_type": "code",
   "execution_count": 41,
   "metadata": {
    "collapsed": true,
    "deletable": true,
    "editable": true
   },
   "outputs": [],
   "source": [
    "pred_y = clf.predict(test_x)"
   ]
  },
  {
   "cell_type": "code",
   "execution_count": 42,
   "metadata": {
    "collapsed": false,
    "deletable": true,
    "editable": true
   },
   "outputs": [
    {
     "data": {
      "text/plain": [
       "array(['0', '0', '0', '0', '0', '0', '1', '1', '1', '0', '0', '1', '0',\n",
       "       '0', '0', '1', '0', '1', '0', '0', '1', '0', '0', '0', '0', '0',\n",
       "       '0', '0', '1', '1', '1', '1', '1', '1', '0', '0', '1', '0', '0',\n",
       "       '1', '0', '0', '0', '0', '1', '0', '0', '0', '1', '0', '0', '0',\n",
       "       '0', '0', '0', '0', '0', '0', '0', '1', '1', '1', '0', '0', '0',\n",
       "       '1', '1', '0', '0', '1', '0', '0', '0', '1', '0', '0', '1', '0',\n",
       "       '0', '0', '0', '0', '0', '0', '0', '0', '1', '0', '1', '1', '1',\n",
       "       '0', '0', '0', '1', '0', '0', '0', '0', '1', '0', '0', '0', '1',\n",
       "       '0', '0', '0', '0', '0', '1', '0', '0', '0', '0', '1', '1', '0',\n",
       "       '0', '0', '0', '0', '1', '0', '0', '0', '1', '1', '0', '0', '1',\n",
       "       '0', '0', '1', '1', '1', '1', '0', '1', '0', '0', '0', '0', '0',\n",
       "       '0', '0', '1', '1', '0', '0', '0', '0', '0', '0', '0', '0', '0',\n",
       "       '0', '0', '1', '1', '0', '1', '1', '1', '1', '0', '0', '0', '1',\n",
       "       '0', '0', '0', '0', '0', '0', '0', '0', '0', '0', '0', '0', '1',\n",
       "       '0', '1', '0', '0', '0', '0', '1', '0', '1', '1', '1', '0', '0',\n",
       "       '1', '1', '0', '0', '1', '0', '0', '0', '0', '0', '0', '0', '1',\n",
       "       '0', '0', '0', '1', '0', '0', '0', '0', '0', '1', '0', '0', '0',\n",
       "       '0', '1', '0', '0', '0', '0', '1', '1', '0', '0', '0', '0', '0',\n",
       "       '0', '0', '0', '0', '0', '0', '0', '1', '0', '0', '0', '0', '0',\n",
       "       '1', '0', '1', '0', '1', '0', '0', '0', '0', '0', '1', '0', '0',\n",
       "       '0', '0', '0', '1', '0', '1', '1', '0', '0', '0', '0', '1', '0',\n",
       "       '0', '0', '0', '0', '0', '1', '0', '0', '0', '0', '1', '1', '1',\n",
       "       '0', '0', '1', '0', '0', '1', '1', '1', '0', '1', '1', '0', '1',\n",
       "       '0', '0', '0', '0', '0', '0', '0', '0', '1', '1', '0', '0', '0',\n",
       "       '1', '0', '1', '1', '0', '0', '0', '1', '0', '1', '1', '1', '0',\n",
       "       '0', '1', '0', '0', '0', '1', '0', '1', '0', '1', '0', '1', '1',\n",
       "       '1', '0', '0', '0', '1', '1', '0', '0', '0', '1', '0', '1', '0',\n",
       "       '0', '0', '0', '0', '1', '1', '1', '1', '1', '0', '1', '1', '0',\n",
       "       '0', '1', '1', '0', '0', '0', '0', '0', '0', '1', '0', '1', '0',\n",
       "       '1', '0', '1', '1', '0', '1', '1', '0', '0', '0', '0', '1', '0',\n",
       "       '0', '0', '0', '1', '0', '0', '1', '0', '1', '1', '1', '0', '0',\n",
       "       '1', '0', '0', '1', '1', '1', '0', '0', '0', '0', '1', '0', '0',\n",
       "       '0', '0', '0', '0', '0', '0', '0', '0', '1', '0', '0', '0', '0',\n",
       "       '0', '0', '0', '0', '1', '0', '1', '0', '0', '0', '1', '0', '0',\n",
       "       '0', '0', '0', '1', '1', '1', '1', '0', '0', '0', '0', '0', '0',\n",
       "       '0', '1', '1', '0', '0', '0', '1', '0', '0', '0', '0', '0', '1',\n",
       "       '0', '0', '0', '1', '1', '1', '0', '1', '1', '0', '0', '1', '1',\n",
       "       '0', '0', '1', '0', '0', '1', '0', '0', '0', '0', '0', '0', '0',\n",
       "       '1', '0', '1', '1', '0', '0', '0', '1', '0', '0', '0', '0', '0',\n",
       "       '0', '1', '1', '0', '0', '1', '0', '0', '0', '0', '0', '1', '1',\n",
       "       '0', '0', '1', '1', '0', '1', '1', '1', '0', '1', '1', '0', '1',\n",
       "       '0', '1', '0', '0', '1', '0', '1', '1', '1', '0', '0', '0', '0',\n",
       "       '0', '0', '1', '0', '0', '0', '0', '0', '0', '1', '1', '1', '1',\n",
       "       '0', '0', '1', '0', '0', '1', '0', '1', '1', '0', '1', '0', '0',\n",
       "       '0', '0', '0', '1', '0', '0', '0', '0', '1', '0', '1', '0', '0',\n",
       "       '0', '0', '0', '0', '1', '0', '0', '0', '1', '0', '0', '0', '1',\n",
       "       '1', '0', '1', '0', '0', '0', '0', '0', '0', '1', '0', '1', '0',\n",
       "       '0', '0', '0', '1', '1', '0', '0', '0', '0', '1', '0', '1', '0',\n",
       "       '0', '0', '0', '0', '0', '0', '1', '0', '0', '1', '0', '0', '0',\n",
       "       '1', '0', '0', '0', '0', '0', '0', '0', '0', '0', '0', '0', '1',\n",
       "       '1', '0', '0', '0', '0', '0', '0', '0', '0', '0', '0', '0', '0', '0'], dtype=object)"
      ]
     },
     "execution_count": 42,
     "metadata": {},
     "output_type": "execute_result"
    }
   ],
   "source": [
    "pred_y"
   ]
  },
  {
   "cell_type": "code",
   "execution_count": 43,
   "metadata": {
    "collapsed": false,
    "deletable": true,
    "editable": true
   },
   "outputs": [
    {
     "name": "stdout",
     "output_type": "stream",
     "text": [
      "Accuracy is  53.6144578313\n",
      "             precision    recall  f1-score   support\n",
      "\n",
      "          0       0.56      0.71      0.62       363\n",
      "          1       0.48      0.33      0.39       301\n",
      "\n",
      "avg / total       0.53      0.54      0.52       664\n",
      "\n"
     ]
    }
   ],
   "source": [
    "print \"Accuracy is \", accuracy_score(test_y,pred_y)*100\n",
    "\n",
    "print classification_report(test_y,pred_y)"
   ]
  },
  {
   "cell_type": "code",
   "execution_count": null,
   "metadata": {
    "collapsed": true,
    "deletable": true,
    "editable": true
   },
   "outputs": [],
   "source": []
  }
 ],
 "metadata": {
  "kernelspec": {
   "display_name": "Python 2",
   "language": "python",
   "name": "python2"
  },
  "language_info": {
   "codemirror_mode": {
    "name": "ipython",
    "version": 2
   },
   "file_extension": ".py",
   "mimetype": "text/x-python",
   "name": "python",
   "nbconvert_exporter": "python",
   "pygments_lexer": "ipython2",
   "version": "2.7.13"
  }
 },
 "nbformat": 4,
 "nbformat_minor": 2
}
